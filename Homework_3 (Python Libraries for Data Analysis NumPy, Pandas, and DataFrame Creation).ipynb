{
 "cells": [
  {
   "cell_type": "code",
   "execution_count": 10,
   "id": "7a83c2ac-43b4-4e76-a8e7-68c76450dffb",
   "metadata": {},
   "outputs": [
    {
     "name": "stdout",
     "output_type": "stream",
     "text": [
      "     Імена  Вік Спеціальність\n",
      "0     Anna   21          Math\n",
      "1   Bohdan   22       Physics\n",
      "2    Olena   20       Biology\n",
      "3     Ivan   19     Chemistry\n",
      "4    Maria   23          Math\n",
      "5    Petro   22       Physics\n",
      "6   Sophia   21       Biology\n",
      "7      Max   20     Chemistry\n",
      "8  Natalia   19          Math\n",
      "9    Vadym   21       Physics\n"
     ]
    }
   ],
   "source": [
    "import pandas as pd\n",
    "\n",
    "students_data = {\n",
    "    'Імена': ['Anna', 'Bohdan', 'Olena', 'Ivan', 'Maria', 'Petro', 'Sophia', 'Max', 'Natalia', 'Vadym'],\n",
    "    'Вік': [21, 22, 20, 19, 23, 22, 21, 20, 19, 21],\n",
    "    'Спеціальність': ['Math', 'Physics', 'Biology', 'Chemistry', 'Math', 'Physics', 'Biology', 'Chemistry', 'Math', 'Physics']\n",
    "}\n",
    "\n",
    "students_df = pd.DataFrame(students_data)\n",
    "print(students_df)"
   ]
  },
  {
   "cell_type": "code",
   "execution_count": 4,
   "id": "b9ddc4c2-9ae2-4617-b5ab-0e3f78b1e2cb",
   "metadata": {},
   "outputs": [
    {
     "name": "stdout",
     "output_type": "stream",
     "text": [
      "    Імена  Вік Спеціальність\n",
      "0    Anna   21          Math\n",
      "1  Bohdan   22       Physics\n",
      "4   Maria   23          Math\n",
      "5   Petro   22       Physics\n",
      "6  Sophia   21       Biology\n",
      "9   Vadym   21       Physics\n"
     ]
    }
   ],
   "source": [
    "older_students = students_df[students_df['Вік'] > 20]\n",
    "print(older_students)"
   ]
  },
  {
   "cell_type": "code",
   "execution_count": 8,
   "id": "c316c7a3-1b79-41c8-b062-0a2788b58931",
   "metadata": {},
   "outputs": [],
   "source": [
    "students_df.to_csv('students.csv', index=False)"
   ]
  },
  {
   "cell_type": "code",
   "execution_count": 12,
   "id": "357adfdf-04bd-4271-aada-5ff68626b731",
   "metadata": {},
   "outputs": [
    {
     "name": "stdout",
     "output_type": "stream",
     "text": [
      "    Імена  Вік Спеціальність\n",
      "0    Anna   21          Math\n",
      "1  Bohdan   22       Physics\n",
      "2   Olena   20       Biology\n",
      "3    Ivan   19     Chemistry\n",
      "4   Maria   23          Math\n"
     ]
    }
   ],
   "source": [
    "file_path = 'students.csv'\n",
    "data_df = pd.read_csv(file_path)\n",
    "print(data_df.head())"
   ]
  },
  {
   "cell_type": "code",
   "execution_count": 14,
   "id": "1a16fb65-9f0e-4388-a953-9bdfbb3b3d69",
   "metadata": {},
   "outputs": [
    {
     "name": "stdout",
     "output_type": "stream",
     "text": [
      "Shape of the DataFrame: (10, 3)\n"
     ]
    }
   ],
   "source": [
    "print(\"Shape of the DataFrame:\", data_df.shape)# Shape of the DataFrame: (10, 3)"
   ]
  },
  {
   "cell_type": "code",
   "execution_count": 16,
   "id": "57af314e-01a9-448a-8d6f-96327bcdd022",
   "metadata": {},
   "outputs": [
    {
     "name": "stdout",
     "output_type": "stream",
     "text": [
      "             Вік\n",
      "count  10.000000\n",
      "mean   20.800000\n",
      "std     1.316561\n",
      "min    19.000000\n",
      "25%    20.000000\n",
      "50%    21.000000\n",
      "75%    21.750000\n",
      "max    23.000000\n"
     ]
    }
   ],
   "source": [
    "print(data_df.describe())"
   ]
  },
  {
   "cell_type": "code",
   "execution_count": 32,
   "id": "f18fa050-6f1c-4101-a562-91f111d08eaa",
   "metadata": {},
   "outputs": [
    {
     "data": {
      "text/html": [
       "<div>\n",
       "<style scoped>\n",
       "    .dataframe tbody tr th:only-of-type {\n",
       "        vertical-align: middle;\n",
       "    }\n",
       "\n",
       "    .dataframe tbody tr th {\n",
       "        vertical-align: top;\n",
       "    }\n",
       "\n",
       "    .dataframe thead th {\n",
       "        text-align: right;\n",
       "    }\n",
       "</style>\n",
       "<table border=\"1\" class=\"dataframe\">\n",
       "  <thead>\n",
       "    <tr style=\"text-align: right;\">\n",
       "      <th></th>\n",
       "      <th>Вік</th>\n",
       "    </tr>\n",
       "  </thead>\n",
       "  <tbody>\n",
       "    <tr>\n",
       "      <th>count</th>\n",
       "      <td>10.000000</td>\n",
       "    </tr>\n",
       "    <tr>\n",
       "      <th>mean</th>\n",
       "      <td>20.800000</td>\n",
       "    </tr>\n",
       "    <tr>\n",
       "      <th>std</th>\n",
       "      <td>1.316561</td>\n",
       "    </tr>\n",
       "    <tr>\n",
       "      <th>min</th>\n",
       "      <td>19.000000</td>\n",
       "    </tr>\n",
       "    <tr>\n",
       "      <th>25%</th>\n",
       "      <td>20.000000</td>\n",
       "    </tr>\n",
       "    <tr>\n",
       "      <th>50%</th>\n",
       "      <td>21.000000</td>\n",
       "    </tr>\n",
       "    <tr>\n",
       "      <th>75%</th>\n",
       "      <td>21.750000</td>\n",
       "    </tr>\n",
       "    <tr>\n",
       "      <th>max</th>\n",
       "      <td>23.000000</td>\n",
       "    </tr>\n",
       "  </tbody>\n",
       "</table>\n",
       "</div>"
      ],
      "text/plain": [
       "             Вік\n",
       "count  10.000000\n",
       "mean   20.800000\n",
       "std     1.316561\n",
       "min    19.000000\n",
       "25%    20.000000\n",
       "50%    21.000000\n",
       "75%    21.750000\n",
       "max    23.000000"
      ]
     },
     "execution_count": 32,
     "metadata": {},
     "output_type": "execute_result"
    }
   ],
   "source": [
    "data_df.describe(percentiles=None, include=None, exclude=None)"
   ]
  },
  {
   "cell_type": "code",
   "execution_count": 26,
   "id": "42bd2044-936c-481b-8e91-fb9521bc59e9",
   "metadata": {},
   "outputs": [
    {
     "name": "stdout",
     "output_type": "stream",
     "text": [
      "<class 'pandas.core.frame.DataFrame'>\n",
      "RangeIndex: 10 entries, 0 to 9\n",
      "Data columns (total 3 columns):\n",
      " #   Column         Non-Null Count  Dtype \n",
      "---  ------         --------------  ----- \n",
      " 0   Імена          10 non-null     object\n",
      " 1   Вік            10 non-null     int64 \n",
      " 2   Спеціальність  10 non-null     object\n",
      "dtypes: int64(1), object(2)\n",
      "memory usage: 372.0+ bytes\n"
     ]
    }
   ],
   "source": [
    "data_df.info()"
   ]
  },
  {
   "cell_type": "code",
   "execution_count": 36,
   "id": "39ea4ba4-a636-418e-bd72-b5e72eb8a44f",
   "metadata": {},
   "outputs": [
    {
     "name": "stdout",
     "output_type": "stream",
     "text": [
      "<class 'pandas.core.frame.DataFrame'>\n",
      "RangeIndex: 10 entries, 0 to 9\n",
      "Data columns (total 3 columns):\n",
      " #   Column         Non-Null Count  Dtype \n",
      "---  ------         --------------  ----- \n",
      " 0   Імена          10 non-null     object\n",
      " 1   Вік            10 non-null     int64 \n",
      " 2   Спеціальність  10 non-null     object\n",
      "dtypes: int64(1), object(2)\n",
      "memory usage: 372.0+ bytes\n"
     ]
    }
   ],
   "source": [
    "data_df.info(verbose=None, buf=None, max_cols=None, memory_usage=None, show_counts=None)"
   ]
  },
  {
   "cell_type": "code",
   "execution_count": 39,
   "id": "bbe8ae19-a61b-4a7f-bcbf-e151cd21dd73",
   "metadata": {},
   "outputs": [
    {
     "data": {
      "text/plain": [
       "<Axes: title={'center': 'Вікова група студентів'}, ylabel='Frequency'>"
      ]
     },
     "execution_count": 39,
     "metadata": {},
     "output_type": "execute_result"
    },
    {
     "data": {
      "image/png": "[encoded data removed]",
      "text/plain": [
       "<Figure size 640x480 with 1 Axes>"
      ]
     },
     "metadata": {},
     "output_type": "display_data"
    }
   ],
   "source": [
    "students_df['Вік'].plot(kind='hist', title='Вікова група студентів')"
   ]
  },
  {
   "cell_type": "code",
   "execution_count": null,
   "id": "1c9042eb-a4be-4419-b1c0-342a3ede814d",
   "metadata": {},
   "outputs": [],
   "source": []
  }
 ],
 "metadata": {
  "kernelspec": {
   "display_name": "Python 3 (ipykernel)",
   "language": "python",
   "name": "python3"
  },
  "language_info": {
   "codemirror_mode": {
    "name": "ipython",
    "version": 3
   },
   "file_extension": ".py",
   "mimetype": "text/x-python",
   "name": "python",
   "nbconvert_exporter": "python",
   "pygments_lexer": "ipython3",
   "version": "3.12.4"
  }
 },
 "nbformat": 4,
 "nbformat_minor": 5
}
