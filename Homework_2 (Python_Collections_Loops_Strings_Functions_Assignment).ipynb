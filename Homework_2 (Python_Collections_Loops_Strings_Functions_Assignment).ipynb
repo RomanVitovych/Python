{
 "cells": [
  {
   "cell_type": "code",
   "execution_count": 1,
   "id": "6560de44-6934-4c78-8e57-bb4f0109a1c3",
   "metadata": {},
   "outputs": [
    {
     "name": "stdout",
     "output_type": "stream",
     "text": [
      "1\n"
     ]
    }
   ],
   "source": [
    "message = \"Never argue with stupid people, they will drag you down to their level and then beat you with experience.\"\n",
    "search = \"r\"\n",
    "result = 0\n",
    "for search in message :\n",
    "    result = message.count(search)\n",
    "print(result)"
   ]
  },
  {
   "cell_type": "code",
   "execution_count": 3,
   "id": "fc8dffb4-53df-47c3-a6c1-6d5992ff390b",
   "metadata": {},
   "outputs": [
    {
     "name": "stdin",
     "output_type": "stream",
     "text": [
      "Enter integer (0 for output):  5\n",
      "Enter integer (0 for output):  4\n",
      "Enter integer (0 for output):  0\n"
     ]
    },
    {
     "data": {
      "text/plain": [
       "25"
      ]
     },
     "execution_count": 3,
     "metadata": {},
     "output_type": "execute_result"
    }
   ],
   "source": [
    "num = int(input(\"Enter integer (0 for output): \"))\n",
    "sum = 0\n",
    "while num != 0:\n",
    "    for i in range(0, num + 1, 1):\n",
    "        sum += i\n",
    "    num = int(input(\"Enter integer (0 for output): \"))  \n",
    "sum    "
   ]
  },
  {
   "cell_type": "code",
   "execution_count": 9,
   "id": "7ebfdfde-f0b6-4d6f-8e57-1c4c9effa4da",
   "metadata": {},
   "outputs": [
    {
     "name": "stdout",
     "output_type": "stream",
     "text": [
      "Hello world!\n"
     ]
    }
   ],
   "source": [
    "def greeting ():\n",
    "    print('Hello world!')\n",
    "greeting ()\n",
    "#print(greeting())"
   ]
  },
  {
   "cell_type": "code",
   "execution_count": 11,
   "id": "5c3fa24d-dfb0-4c09-a672-042b4d18f7f8",
   "metadata": {},
   "outputs": [
    {
     "name": "stdout",
     "output_type": "stream",
     "text": [
      "Dear Roman, we have the honour to invite you to our event\n"
     ]
    }
   ],
   "source": [
    "def invite_to_event(username):\n",
    "    return f\"Dear {username}, we have the honour to invite you to our event\"\n",
    "message = invite_to_event('Roman')\n",
    "print(message) "
   ]
  },
  {
   "cell_type": "code",
   "execution_count": 13,
   "id": "ede46812-9519-4be4-8e1e-9c407ccb5e61",
   "metadata": {},
   "outputs": [
    {
     "name": "stdout",
     "output_type": "stream",
     "text": [
      "140\n",
      "1\n"
     ]
    }
   ],
   "source": [
    "base_rate = 40\n",
    "price_per_km = 10\n",
    "total_trip = 0\n",
    "\n",
    "def calculate_trip_price(distance_km):\n",
    "    global total_trip\n",
    "    total_trip += 1\n",
    "    return base_rate + (price_per_km * distance_km)\n",
    "\n",
    "print(calculate_trip_price(10))\n",
    "print(total_trip)"
   ]
  },
  {
   "cell_type": "code",
   "execution_count": 25,
   "id": "5653086a-b4bd-4086-a225-99dfc1ef24ea",
   "metadata": {},
   "outputs": [
    {
     "name": "stdout",
     "output_type": "stream",
     "text": [
      "Roman Vitovych\n"
     ]
    }
   ],
   "source": [
    "def get_fullname (first_name, last_name, middle_name = None):\n",
    "        if middle_name:\n",
    "            return f'{first_name} {middle_name} {last_name}'\n",
    "        else:\n",
    "            return f'{first_name} {last_name}'\n",
    "print(get_fullname('Roman', 'Vitovych'))"
   ]
  },
  {
   "cell_type": "code",
   "execution_count": 35,
   "id": "512d0269-a915-4d54-b48d-8c8222017be5",
   "metadata": {},
   "outputs": [
    {
     "data": {
      "text/plain": [
       "39"
      ]
     },
     "execution_count": 35,
     "metadata": {},
     "output_type": "execute_result"
    }
   ],
   "source": [
    "def amount_payment(payment):\n",
    "    total_payments = 0\n",
    "    for i in payment:\n",
    "        if i >= 0:\n",
    "            total_payments += i\n",
    "    return total_payments\n",
    "amount_payment([10,5,8,12,4])   "
   ]
  },
  {
   "cell_type": "code",
   "execution_count": 41,
   "id": "17658967-6226-4655-bb38-1f13e21703cc",
   "metadata": {},
   "outputs": [
    {
     "data": {
      "text/plain": [
       "[5, 8, 10]"
      ]
     },
     "execution_count": 41,
     "metadata": {},
     "output_type": "execute_result"
    }
   ],
   "source": [
    "def prepare_data(data):\n",
    "    sorted_data = sorted(data)\n",
    "    sorted_data.pop()\n",
    "    sorted_data.pop(0)\n",
    "    return sorted_data\n",
    "prepare_data([10,5,8,12,4])    "
   ]
  },
  {
   "cell_type": "code",
   "execution_count": 45,
   "id": "bed2f870-0e09-4cb3-a257-f22891f57956",
   "metadata": {},
   "outputs": [
    {
     "data": {
      "text/plain": [
       "['key2', 'key4']"
      ]
     },
     "execution_count": 45,
     "metadata": {},
     "output_type": "execute_result"
    }
   ],
   "source": [
    "def lookup_key(data, value):\n",
    "    list = []\n",
    "    for key, i in data.items():\n",
    "        if i == value:\n",
    "            list.append(key)\n",
    "    return list\n",
    "lookup_key({'key1': 1, 'key2': 2, 'key3': 3, 'key4': 2}, 2)    "
   ]
  },
  {
   "cell_type": "code",
   "execution_count": 47,
   "id": "8e299dd5-73bb-4ff2-aafb-acbae76c2143",
   "metadata": {},
   "outputs": [
    {
     "data": {
      "text/plain": [
       "([1, 3, 5], [12, 24])"
      ]
     },
     "execution_count": 47,
     "metadata": {},
     "output_type": "execute_result"
    }
   ],
   "source": [
    "def split_list(grade):\n",
    "    total_sum = 0\n",
    "    high_score_list = []\n",
    "    low_score_list = []\n",
    "    grade_length = len(grade)\n",
    "    for i in grade:\n",
    "        total_sum += i\n",
    "    if grade_length == 0:\n",
    "        return [], []   \n",
    "    average_score = total_sum/grade_length\n",
    "    for i in grade:\n",
    "        if i <= average_score:\n",
    "            high_score_list.append(i)\n",
    "        else:    \n",
    "            low_score_list.append(i)        \n",
    "    return high_score_list, low_score_list \n",
    "split_list([1, 12, 3, 24, 5])    "
   ]
  },
  {
   "cell_type": "code",
   "execution_count": null,
   "id": "b51980a4-8f88-4e00-8328-3313c003cf82",
   "metadata": {},
   "outputs": [],
   "source": []
  }
 ],
 "metadata": {
  "kernelspec": {
   "display_name": "Python 3 (ipykernel)",
   "language": "python",
   "name": "python3"
  },
  "language_info": {
   "codemirror_mode": {
    "name": "ipython",
    "version": 3
   },
   "file_extension": ".py",
   "mimetype": "text/x-python",
   "name": "python",
   "nbconvert_exporter": "python",
   "pygments_lexer": "ipython3",
   "version": "3.12.4"
  }
 },
 "nbformat": 4,
 "nbformat_minor": 5
}
