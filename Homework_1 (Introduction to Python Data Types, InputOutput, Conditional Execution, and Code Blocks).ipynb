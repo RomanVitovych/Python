{
 "cells": [
  {
   "cell_type": "code",
   "execution_count": 5,
   "id": "5792e4ef-fb89-49eb-8ea7-c22901cb6f04",
   "metadata": {},
   "outputs": [
    {
     "name": "stdout",
     "output_type": "stream",
     "text": [
      "Roman 41\n"
     ]
    }
   ],
   "source": [
    "name = 'Roman'\n",
    "age = 41\n",
    "print(name, age)"
   ]
  },
  {
   "cell_type": "code",
   "execution_count": 9,
   "id": "d9a57e8b-b55b-49d9-9b7c-6b2d8dc682d8",
   "metadata": {},
   "outputs": [
    {
     "name": "stdout",
     "output_type": "stream",
     "text": [
      "3746.3999999999996\n"
     ]
    }
   ],
   "source": [
    "rate = 1.68\n",
    "value = 2230\n",
    "payment = rate * value\n",
    "print(payment)"
   ]
  },
  {
   "cell_type": "code",
   "execution_count": 11,
   "id": "64912a72-0afb-404f-8dc2-3a8cf9552bd9",
   "metadata": {},
   "outputs": [
    {
     "name": "stdout",
     "output_type": "stream",
     "text": [
      "2520.0\n"
     ]
    }
   ],
   "source": [
    "rate = 1.68\n",
    "night_rate = rate / 2\n",
    "value_day =  1000 \n",
    "value_night = 1000\n",
    "payment = value_day * rate + value_night * night_rate\n",
    "print(payment)"
   ]
  },
  {
   "cell_type": "code",
   "execution_count": 13,
   "id": "da52c18f-8566-41fd-9b61-25e828d2050d",
   "metadata": {},
   "outputs": [
    {
     "name": "stdout",
     "output_type": "stream",
     "text": [
      "687.9599999999999\n"
     ]
    }
   ],
   "source": [
    "rate = 1.68\n",
    "value_day = 358\n",
    "value_night = 103\n",
    "#Payment for electricity for the current month\n",
    "payment = rate * value_day + rate / 2 * value_night\n",
    "print(payment)"
   ]
  },
  {
   "cell_type": "code",
   "execution_count": 15,
   "id": "c4378e64-4a7d-4046-9bc5-eb896d95ff18",
   "metadata": {},
   "outputs": [
    {
     "name": "stdout",
     "output_type": "stream",
     "text": [
      "Roman Vitovych\n"
     ]
    }
   ],
   "source": [
    "first_name = \"Roman\"\n",
    "last_name = 'Vitovych'\n",
    "print(first_name, last_name)"
   ]
  },
  {
   "cell_type": "code",
   "execution_count": 19,
   "id": "41f72f14-e93a-45a4-875c-488ce491230c",
   "metadata": {},
   "outputs": [
    {
     "name": "stdout",
     "output_type": "stream",
     "text": [
      "Roman Vitovych\n"
     ]
    }
   ],
   "source": [
    "first_name = 'Roman'\n",
    "last_name = 'Vitovych' \n",
    "full_name = first_name + ' ' + last_name\n",
    "print(full_name)"
   ]
  },
  {
   "cell_type": "code",
   "execution_count": 49,
   "id": "9cc23e45-f182-4163-bd1a-07b147217725",
   "metadata": {},
   "outputs": [
    {
     "data": {
      "text/plain": [
       "'Dear John, we inform you that you have purchased a ticket to travel to the island of Mauritius. Departure June 31 of this year. Have a passport at John Smith. We are looking forward to seeing you!'"
      ]
     },
     "execution_count": 49,
     "metadata": {},
     "output_type": "execute_result"
    }
   ],
   "source": [
    "first_name = \"John\"\n",
    "last_name = \"Smith\"\n",
    "full_name = first_name + \" \" + last_name\n",
    "message = f\"Dear {first_name}, we inform you that you have purchased a ticket to travel to the island of Mauritius. \\\n",
    "Departure June 31 of this year. Have a passport at {full_name}. We are looking forward to seeing you!\"\n",
    "message"
   ]
  },
  {
   "cell_type": "code",
   "execution_count": 43,
   "id": "330fc26e-b263-4cbe-93e7-f7d1ccaaeb46",
   "metadata": {},
   "outputs": [
    {
     "name": "stdout",
     "output_type": "stream",
     "text": [
      "True False\n"
     ]
    }
   ],
   "source": [
    "is_active = True\n",
    "is_delete = False\n",
    "print(is_active, is_delete)"
   ]
  },
  {
   "cell_type": "code",
   "execution_count": 33,
   "id": "c2773679-15a3-4903-b4ff-8fe801c04092",
   "metadata": {},
   "outputs": [
    {
     "name": "stdin",
     "output_type": "stream",
     "text": [
      "Your name?  Roman\n",
      "Your email?  romario538@gmail.com\n",
      "Your age?  41\n",
      "Your height?  175\n"
     ]
    },
    {
     "name": "stdout",
     "output_type": "stream",
     "text": [
      "True\n"
     ]
    }
   ],
   "source": [
    "name = input(\"Your name? \")\n",
    "email = input(\"Your email? \")\n",
    "age = int(input(\"Your age? \"))\n",
    "height = float(input(\"Your height? \"))\n",
    "is_active = bool(\"Is active? \")\n",
    "input\n",
    "print(is_active)"
   ]
  },
  {
   "cell_type": "code",
   "execution_count": 27,
   "id": "1360ee0b-d8bb-4c5e-a790-63ee39b13a40",
   "metadata": {},
   "outputs": [
    {
     "name": "stdin",
     "output_type": "stream",
     "text": [
      "Enter the number of points:  5\n"
     ]
    },
    {
     "data": {
      "text/plain": [
       "False"
      ]
     },
     "execution_count": 27,
     "metadata": {},
     "output_type": "execute_result"
    }
   ],
   "source": [
    "is_next = None\n",
    "num = int(input(\"Enter the number of points: \"))\n",
    "if num >= 83:\n",
    "    is_next = True\n",
    "else: \n",
    "    is_next = False\n",
    "input"
   ]
  },
  {
   "cell_type": "code",
   "execution_count": 31,
   "id": "422ea12c-7baa-45c8-afad-5b5341a9daec",
   "metadata": {},
   "outputs": [
    {
     "name": "stdin",
     "output_type": "stream",
     "text": [
      "Enter your full work experience in years:  4\n"
     ]
    },
    {
     "name": "stdout",
     "output_type": "stream",
     "text": [
      "Middle\n"
     ]
    }
   ],
   "source": [
    "work_experience = int(input(\"Enter your full work experience in years: \"))\n",
    "if work_experience <= 1:\n",
    "    developer_type = \"Junior\"\n",
    "elif work_experience > 1 and work_experience <= 5:\n",
    "    developer_type = \"Middle\"\n",
    "elif work_experience > 5:\n",
    "    developer_type = \"Senior\"\n",
    "input\n",
    "print(developer_type)"
   ]
  },
  {
   "cell_type": "code",
   "execution_count": null,
   "id": "ef0b2efa-deac-4380-b748-a063482e6062",
   "metadata": {},
   "outputs": [],
   "source": []
  }
 ],
 "metadata": {
  "kernelspec": {
   "display_name": "Python 3 (ipykernel)",
   "language": "python",
   "name": "python3"
  },
  "language_info": {
   "codemirror_mode": {
    "name": "ipython",
    "version": 3
   },
   "file_extension": ".py",
   "mimetype": "text/x-python",
   "name": "python",
   "nbconvert_exporter": "python",
   "pygments_lexer": "ipython3",
   "version": "3.12.4"
  }
 },
 "nbformat": 4,
 "nbformat_minor": 5
}
